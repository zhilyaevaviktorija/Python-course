{
  "nbformat": 4,
  "nbformat_minor": 0,
  "metadata": {
    "colab": {
      "provenance": [],
      "include_colab_link": true
    },
    "kernelspec": {
      "name": "python3",
      "display_name": "Python 3"
    },
    "language_info": {
      "name": "python"
    }
  },
  "cells": [
    {
      "cell_type": "markdown",
      "metadata": {
        "id": "view-in-github",
        "colab_type": "text"
      },
      "source": [
        "<a href=\"https://colab.research.google.com/github/zhilyaevaviktorija/Python-course/blob/main/Seminar_16.ipynb\" target=\"_parent\"><img src=\"https://colab.research.google.com/assets/colab-badge.svg\" alt=\"Open In Colab\"/></a>"
      ]
    },
    {
      "cell_type": "markdown",
      "source": [
        "Задание 1:\n",
        "Выберете бесплатную LLM на сайте openrouter и сгенерируйте для неё API-ключ. Поместите ключ в загтовку кода ниже.\n",
        "\n",
        "Перейдите на сайт https://openrouter.ai.\n",
        "\n",
        "1. Перейдите на сайт https://openrouter.ai.\n",
        "2. Зарегистрируйтесь (через Google или GitHub).\n",
        "3. Выберите любую бесплатную модель (free).\n",
        "4. Сгенерируйте свой API-ключ в разделе \"API\".\n",
        "5. Скопируйте ключ и вставьте его в заготовку кода ниже в переменную API_KEY.\n"
      ],
      "metadata": {
        "id": "ityE3nItOZRK"
      }
    },
    {
      "cell_type": "code",
      "source": [
        "import requests\n",
        "import json"
      ],
      "metadata": {
        "id": "67zFbNM5LCyE"
      },
      "execution_count": null,
      "outputs": []
    },
    {
      "cell_type": "code",
      "source": [
        "response = requests.post(\n",
        "  url=\"https://openrouter.ai/api/v1/chat/completions\",\n",
        "  headers={\n",
        "    \"Authorization\": \"Bearer \",\n",
        "    \"Content-Type\": \"application/json\",\n",
        "  },\n",
        "  data=json.dumps({\n",
        "    \"model\": \"...\",\n",
        "    \"messages\": [\n",
        "      {\n",
        "        \"role\": \"user\",\n",
        "        \"content\": \"...\"\n",
        "      }\n",
        "    ],\n",
        "\n",
        "  })\n",
        ")\n"
      ],
      "metadata": {
        "id": "zHPC4YjsLXGy"
      },
      "execution_count": null,
      "outputs": []
    },
    {
      "cell_type": "code",
      "source": [
        "# код ответа\n",
        "print(response.status_code)"
      ],
      "metadata": {
        "id": "PUyRjwrcNGIt"
      },
      "execution_count": null,
      "outputs": []
    },
    {
      "cell_type": "code",
      "source": [
        "# получить ответ\n",
        "data = response.json()\n",
        "print(data)"
      ],
      "metadata": {
        "id": "2mJvneKqNJCM"
      },
      "execution_count": null,
      "outputs": []
    },
    {
      "cell_type": "markdown",
      "source": [
        "Задание 2: Извлеките только текст ответа модели и выведите как integer его с помощью print()."
      ],
      "metadata": {
        "id": "S9DEvdq2OJX1"
      }
    }
  ]
}